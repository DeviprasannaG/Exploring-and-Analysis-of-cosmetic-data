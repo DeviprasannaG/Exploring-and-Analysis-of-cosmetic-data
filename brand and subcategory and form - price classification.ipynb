{
 "cells": [
  {
   "cell_type": "code",
   "execution_count": 50,
   "id": "a560940b",
   "metadata": {},
   "outputs": [],
   "source": [
    "import pandas as pd\n",
    "import numpy as np\n",
    "import re\n",
    "import matplotlib.pyplot as plt\n",
    "from sklearn.feature_extraction.text import CountVectorizer\n",
    "from sklearn.model_selection import train_test_split\n",
    "from sklearn.preprocessing import StandardScaler\n",
    "from sklearn.compose import make_column_transformer\n",
    "from sklearn.pipeline import make_pipeline\n",
    "from sklearn.preprocessing import OneHotEncoder\n",
    "from sklearn.model_selection import GridSearchCV, RandomizedSearchCV\n",
    "from sklearn.model_selection import cross_val_score\n",
    "from sklearn.metrics import classification_report, confusion_matrix, accuracy_score\n",
    "\n",
    "random_state = 1"
   ]
  },
  {
   "cell_type": "code",
   "execution_count": 51,
   "id": "d3ca0fd6",
   "metadata": {},
   "outputs": [
    {
     "data": {
      "text/html": [
       "<div>\n",
       "<style scoped>\n",
       "    .dataframe tbody tr th:only-of-type {\n",
       "        vertical-align: middle;\n",
       "    }\n",
       "\n",
       "    .dataframe tbody tr th {\n",
       "        vertical-align: top;\n",
       "    }\n",
       "\n",
       "    .dataframe thead th {\n",
       "        text-align: right;\n",
       "    }\n",
       "</style>\n",
       "<table border=\"1\" class=\"dataframe\">\n",
       "  <thead>\n",
       "    <tr style=\"text-align: right;\">\n",
       "      <th></th>\n",
       "      <th>product_name</th>\n",
       "      <th>website</th>\n",
       "      <th>country</th>\n",
       "      <th>category</th>\n",
       "      <th>subcategory</th>\n",
       "      <th>title-href</th>\n",
       "      <th>price</th>\n",
       "      <th>brand</th>\n",
       "      <th>ingredients</th>\n",
       "      <th>form</th>\n",
       "      <th>type</th>\n",
       "      <th>color</th>\n",
       "      <th>size</th>\n",
       "      <th>rating</th>\n",
       "      <th>noofratings</th>\n",
       "    </tr>\n",
       "  </thead>\n",
       "  <tbody>\n",
       "    <tr>\n",
       "      <th>0</th>\n",
       "      <td>Carlton London Incense Eau da parfum, Premium ...</td>\n",
       "      <td>Flipkart</td>\n",
       "      <td>India</td>\n",
       "      <td>body</td>\n",
       "      <td>perfume</td>\n",
       "      <td>https://www.amazon.in/Carlton-London-Limited-I...</td>\n",
       "      <td>599.0</td>\n",
       "      <td>Carlton London</td>\n",
       "      <td>NaN</td>\n",
       "      <td>aerosol</td>\n",
       "      <td>NaN</td>\n",
       "      <td>Top Note: Orange Blossom, Blackberry | Heart N...</td>\n",
       "      <td>100</td>\n",
       "      <td>3.9</td>\n",
       "      <td>19</td>\n",
       "    </tr>\n",
       "    <tr>\n",
       "      <th>1</th>\n",
       "      <td>CHARLENE SPRAY MIST PERFUME 30 - INTIMATE (PAC...</td>\n",
       "      <td>Flipkart</td>\n",
       "      <td>India</td>\n",
       "      <td>body</td>\n",
       "      <td>perfume</td>\n",
       "      <td>https://www.amazon.in/CHARLENE-SPRAY-MIST-PERF...</td>\n",
       "      <td>149.0</td>\n",
       "      <td>Charlene</td>\n",
       "      <td>NaN</td>\n",
       "      <td>aerosol</td>\n",
       "      <td>NaN</td>\n",
       "      <td>Unit count type:</td>\n",
       "      <td>30</td>\n",
       "      <td>4.4</td>\n",
       "      <td>4,031</td>\n",
       "    </tr>\n",
       "    <tr>\n",
       "      <th>2</th>\n",
       "      <td>CHARLENE SPRAY MIST PERFUME 30 - INTIMATE (PAC...</td>\n",
       "      <td>Flipkart</td>\n",
       "      <td>India</td>\n",
       "      <td>body</td>\n",
       "      <td>perfume</td>\n",
       "      <td>https://www.amazon.in/CHARLENE-SPRAY-MIST-PERF...</td>\n",
       "      <td>298.0</td>\n",
       "      <td>Charlene</td>\n",
       "      <td>NaN</td>\n",
       "      <td>aerosol</td>\n",
       "      <td>NaN</td>\n",
       "      <td>Unit count type:</td>\n",
       "      <td>30</td>\n",
       "      <td>4.4</td>\n",
       "      <td>4,072</td>\n",
       "    </tr>\n",
       "    <tr>\n",
       "      <th>3</th>\n",
       "      <td>DENVER Black Code Perfume - 60 | Eau de Parfum...</td>\n",
       "      <td>Flipkart</td>\n",
       "      <td>India</td>\n",
       "      <td>body</td>\n",
       "      <td>perfume</td>\n",
       "      <td>https://www.amazon.in/DENVER-Black-Code-Perfum...</td>\n",
       "      <td>245.0</td>\n",
       "      <td>Denver</td>\n",
       "      <td>NaN</td>\n",
       "      <td>aerosol</td>\n",
       "      <td>NaN</td>\n",
       "      <td>Long-Lasting Scent</td>\n",
       "      <td>60</td>\n",
       "      <td>4.2</td>\n",
       "      <td>61</td>\n",
       "    </tr>\n",
       "    <tr>\n",
       "      <th>4</th>\n",
       "      <td>Denver Hamilton Perfume - 100 | Long Lasting P...</td>\n",
       "      <td>Flipkart</td>\n",
       "      <td>India</td>\n",
       "      <td>body</td>\n",
       "      <td>perfume</td>\n",
       "      <td>https://www.amazon.in/Denver-Perfume-Hamilton-...</td>\n",
       "      <td>422.0</td>\n",
       "      <td>Denver</td>\n",
       "      <td>NaN</td>\n",
       "      <td>aerosol</td>\n",
       "      <td>NaN</td>\n",
       "      <td>Long-Lasting Scent</td>\n",
       "      <td>100</td>\n",
       "      <td>4.3</td>\n",
       "      <td>342</td>\n",
       "    </tr>\n",
       "    <tr>\n",
       "      <th>...</th>\n",
       "      <td>...</td>\n",
       "      <td>...</td>\n",
       "      <td>...</td>\n",
       "      <td>...</td>\n",
       "      <td>...</td>\n",
       "      <td>...</td>\n",
       "      <td>...</td>\n",
       "      <td>...</td>\n",
       "      <td>...</td>\n",
       "      <td>...</td>\n",
       "      <td>...</td>\n",
       "      <td>...</td>\n",
       "      <td>...</td>\n",
       "      <td>...</td>\n",
       "      <td>...</td>\n",
       "    </tr>\n",
       "    <tr>\n",
       "      <th>12610</th>\n",
       "      <td>Bright Future - Smoothing &amp; Brightening Concea...</td>\n",
       "      <td>Sephora</td>\n",
       "      <td>India</td>\n",
       "      <td>face</td>\n",
       "      <td>concealer</td>\n",
       "      <td>https://sephora.nnnow.com/mac-cosmetics-prep--...</td>\n",
       "      <td>1900.0</td>\n",
       "      <td>MAC Cosmetics</td>\n",
       "      <td>Water\\Aqua\\Eau, Glycerin, Butylene Glycol, Toc...</td>\n",
       "      <td>cream</td>\n",
       "      <td>Combination, Dry, Oily, Normal</td>\n",
       "      <td>Pinklite</td>\n",
       "      <td>100</td>\n",
       "      <td>3.15</td>\n",
       "      <td>14</td>\n",
       "    </tr>\n",
       "    <tr>\n",
       "      <th>12611</th>\n",
       "      <td>Bright Future - Smoothing &amp; Brightening Concea...</td>\n",
       "      <td>Sephora</td>\n",
       "      <td>India</td>\n",
       "      <td>face</td>\n",
       "      <td>concealer</td>\n",
       "      <td>https://sephora.nnnow.com/mac-cosmetics-prep--...</td>\n",
       "      <td>2150.0</td>\n",
       "      <td>MAC Cosmetics</td>\n",
       "      <td>Water\\Aqua\\Eau, Cyclopentasiloxane, Dimethicon...</td>\n",
       "      <td>cream</td>\n",
       "      <td>Combination, Dry, Oily, Normal</td>\n",
       "      <td>No colour</td>\n",
       "      <td>100</td>\n",
       "      <td>3.13</td>\n",
       "      <td>13</td>\n",
       "    </tr>\n",
       "    <tr>\n",
       "      <th>12612</th>\n",
       "      <td>Starlaa Rosy Bronze Blush Mini</td>\n",
       "      <td>Sephora</td>\n",
       "      <td>India</td>\n",
       "      <td>face</td>\n",
       "      <td>blush</td>\n",
       "      <td>https://sephora.nnnow.com/klara-cosmetics-wome...</td>\n",
       "      <td>3040.0</td>\n",
       "      <td>Klara Cosmetics</td>\n",
       "      <td>Talc, Ethylhexyl Palmitate, Octyldodecanol, Sy...</td>\n",
       "      <td>powder</td>\n",
       "      <td>Combination, Oily, Normal, Dry</td>\n",
       "      <td>Selfie Queen</td>\n",
       "      <td>110</td>\n",
       "      <td>4.03</td>\n",
       "      <td>96</td>\n",
       "    </tr>\n",
       "    <tr>\n",
       "      <th>12613</th>\n",
       "      <td>Terra Golden Brick Red Blush Travel Size Mini</td>\n",
       "      <td>Sephora</td>\n",
       "      <td>India</td>\n",
       "      <td>face</td>\n",
       "      <td>blush</td>\n",
       "      <td>https://sephora.nnnow.com/clinique-women-clini...</td>\n",
       "      <td>2950.0</td>\n",
       "      <td>CLINIQUE</td>\n",
       "      <td>Water\\Aqua\\Eau, Dimethicone, Isododecane, Buty...</td>\n",
       "      <td>liquid</td>\n",
       "      <td>Combination, Dry, Oily, Normal</td>\n",
       "      <td>All</td>\n",
       "      <td>115</td>\n",
       "      <td>3.15</td>\n",
       "      <td>15</td>\n",
       "    </tr>\n",
       "    <tr>\n",
       "      <th>12614</th>\n",
       "      <td>Peachin' Golden Peach Blush Travel Size Mini</td>\n",
       "      <td>Sephora</td>\n",
       "      <td>India</td>\n",
       "      <td>face</td>\n",
       "      <td>blush</td>\n",
       "      <td>https://sephora.nnnow.com/lancome-clarifique-d...</td>\n",
       "      <td>5850.0</td>\n",
       "      <td>Lancme</td>\n",
       "      <td>Aqua / Water, Alcohol Denat., Glycolic Acid, B...</td>\n",
       "      <td>serum</td>\n",
       "      <td>Combination, Dry, Normal, Oily</td>\n",
       "      <td>No colour</td>\n",
       "      <td>150</td>\n",
       "      <td>3.16</td>\n",
       "      <td>16</td>\n",
       "    </tr>\n",
       "  </tbody>\n",
       "</table>\n",
       "<p>12615 rows × 15 columns</p>\n",
       "</div>"
      ],
      "text/plain": [
       "                                            product_name   website country  \\\n",
       "0      Carlton London Incense Eau da parfum, Premium ...  Flipkart   India   \n",
       "1      CHARLENE SPRAY MIST PERFUME 30 - INTIMATE (PAC...  Flipkart   India   \n",
       "2      CHARLENE SPRAY MIST PERFUME 30 - INTIMATE (PAC...  Flipkart   India   \n",
       "3      DENVER Black Code Perfume - 60 | Eau de Parfum...  Flipkart   India   \n",
       "4      Denver Hamilton Perfume - 100 | Long Lasting P...  Flipkart   India   \n",
       "...                                                  ...       ...     ...   \n",
       "12610  Bright Future - Smoothing & Brightening Concea...   Sephora   India   \n",
       "12611  Bright Future - Smoothing & Brightening Concea...   Sephora   India   \n",
       "12612                     Starlaa Rosy Bronze Blush Mini   Sephora   India   \n",
       "12613      Terra Golden Brick Red Blush Travel Size Mini   Sephora   India   \n",
       "12614       Peachin' Golden Peach Blush Travel Size Mini   Sephora   India   \n",
       "\n",
       "      category subcategory                                         title-href  \\\n",
       "0         body     perfume  https://www.amazon.in/Carlton-London-Limited-I...   \n",
       "1         body     perfume  https://www.amazon.in/CHARLENE-SPRAY-MIST-PERF...   \n",
       "2         body     perfume  https://www.amazon.in/CHARLENE-SPRAY-MIST-PERF...   \n",
       "3         body     perfume  https://www.amazon.in/DENVER-Black-Code-Perfum...   \n",
       "4         body     perfume  https://www.amazon.in/Denver-Perfume-Hamilton-...   \n",
       "...        ...         ...                                                ...   \n",
       "12610     face   concealer  https://sephora.nnnow.com/mac-cosmetics-prep--...   \n",
       "12611     face   concealer  https://sephora.nnnow.com/mac-cosmetics-prep--...   \n",
       "12612     face       blush  https://sephora.nnnow.com/klara-cosmetics-wome...   \n",
       "12613     face       blush  https://sephora.nnnow.com/clinique-women-clini...   \n",
       "12614     face       blush  https://sephora.nnnow.com/lancome-clarifique-d...   \n",
       "\n",
       "        price            brand  \\\n",
       "0       599.0   Carlton London   \n",
       "1       149.0         Charlene   \n",
       "2       298.0         Charlene   \n",
       "3       245.0           Denver   \n",
       "4       422.0           Denver   \n",
       "...       ...              ...   \n",
       "12610  1900.0    MAC Cosmetics   \n",
       "12611  2150.0    MAC Cosmetics   \n",
       "12612  3040.0  Klara Cosmetics   \n",
       "12613  2950.0         CLINIQUE   \n",
       "12614  5850.0           Lancme   \n",
       "\n",
       "                                             ingredients     form  \\\n",
       "0                                                    NaN  aerosol   \n",
       "1                                                    NaN  aerosol   \n",
       "2                                                    NaN  aerosol   \n",
       "3                                                    NaN  aerosol   \n",
       "4                                                    NaN  aerosol   \n",
       "...                                                  ...      ...   \n",
       "12610  Water\\Aqua\\Eau, Glycerin, Butylene Glycol, Toc...    cream   \n",
       "12611  Water\\Aqua\\Eau, Cyclopentasiloxane, Dimethicon...    cream   \n",
       "12612  Talc, Ethylhexyl Palmitate, Octyldodecanol, Sy...   powder   \n",
       "12613  Water\\Aqua\\Eau, Dimethicone, Isododecane, Buty...   liquid   \n",
       "12614  Aqua / Water, Alcohol Denat., Glycolic Acid, B...    serum   \n",
       "\n",
       "                                 type  \\\n",
       "0                                 NaN   \n",
       "1                                 NaN   \n",
       "2                                 NaN   \n",
       "3                                 NaN   \n",
       "4                                 NaN   \n",
       "...                               ...   \n",
       "12610  Combination, Dry, Oily, Normal   \n",
       "12611  Combination, Dry, Oily, Normal   \n",
       "12612  Combination, Oily, Normal, Dry   \n",
       "12613  Combination, Dry, Oily, Normal   \n",
       "12614  Combination, Dry, Normal, Oily   \n",
       "\n",
       "                                                   color size rating  \\\n",
       "0      Top Note: Orange Blossom, Blackberry | Heart N...  100    3.9   \n",
       "1                                       Unit count type:   30    4.4   \n",
       "2                                       Unit count type:   30    4.4   \n",
       "3                                     Long-Lasting Scent   60    4.2   \n",
       "4                                     Long-Lasting Scent  100    4.3   \n",
       "...                                                  ...  ...    ...   \n",
       "12610                                           Pinklite  100   3.15   \n",
       "12611                                          No colour  100   3.13   \n",
       "12612                                       Selfie Queen  110   4.03   \n",
       "12613                                                All  115   3.15   \n",
       "12614                                          No colour  150   3.16   \n",
       "\n",
       "      noofratings  \n",
       "0              19  \n",
       "1           4,031  \n",
       "2           4,072  \n",
       "3              61  \n",
       "4             342  \n",
       "...           ...  \n",
       "12610          14  \n",
       "12611          13  \n",
       "12612          96  \n",
       "12613          15  \n",
       "12614          16  \n",
       "\n",
       "[12615 rows x 15 columns]"
      ]
     },
     "execution_count": 51,
     "metadata": {},
     "output_type": "execute_result"
    }
   ],
   "source": [
    "skincare = pd.read_csv(r\"C:\\Users\\gdevi\\Desktop\\final_dataset.csv\", sep=\",\",encoding='latin-1')\n",
    "skincare"
   ]
  },
  {
   "cell_type": "code",
   "execution_count": 52,
   "id": "e8c0629f",
   "metadata": {},
   "outputs": [
    {
     "name": "stdout",
     "output_type": "stream",
     "text": [
      "<class 'pandas.core.frame.DataFrame'>\n",
      "RangeIndex: 12615 entries, 0 to 12614\n",
      "Data columns (total 15 columns):\n",
      " #   Column        Non-Null Count  Dtype  \n",
      "---  ------        --------------  -----  \n",
      " 0   product_name  12615 non-null  object \n",
      " 1   website       12615 non-null  object \n",
      " 2   country       12615 non-null  object \n",
      " 3   category      12615 non-null  object \n",
      " 4   subcategory   12615 non-null  object \n",
      " 5   title-href    12615 non-null  object \n",
      " 6   price         12298 non-null  float64\n",
      " 7   brand         12615 non-null  object \n",
      " 8   ingredients   6600 non-null   object \n",
      " 9   form          12615 non-null  object \n",
      " 10  type          9934 non-null   object \n",
      " 11  color         10626 non-null  object \n",
      " 12  size          9449 non-null   object \n",
      " 13  rating        10548 non-null  object \n",
      " 14  noofratings   12156 non-null  object \n",
      "dtypes: float64(1), object(14)\n",
      "memory usage: 1.4+ MB\n"
     ]
    }
   ],
   "source": [
    "skincare['price'] = skincare['price'].astype(float)\n",
    "skincare.info()"
   ]
  },
  {
   "cell_type": "code",
   "execution_count": 53,
   "id": "0d364882",
   "metadata": {},
   "outputs": [
    {
     "data": {
      "text/plain": [
       "product_name       0\n",
       "website            0\n",
       "country            0\n",
       "category           0\n",
       "subcategory        0\n",
       "title-href         0\n",
       "price            317\n",
       "brand              0\n",
       "ingredients     6015\n",
       "form               0\n",
       "type            2681\n",
       "color           1989\n",
       "size            3166\n",
       "rating          2067\n",
       "noofratings      459\n",
       "dtype: int64"
      ]
     },
     "execution_count": 53,
     "metadata": {},
     "output_type": "execute_result"
    }
   ],
   "source": [
    "skincare.isnull().sum()"
   ]
  },
  {
   "cell_type": "code",
   "execution_count": 54,
   "id": "a0fbacc6",
   "metadata": {},
   "outputs": [
    {
     "data": {
      "text/plain": [
       "array(['perfume', 'bodywash', 'sunscreen', 'moisturizer', 'soap',\n",
       "       'mascara', 'eyeshadow', 'eyeliner', 'primer', 'eye primer',\n",
       "       'eyebrow', 'serum', 'eyelashes', 'foundation', 'shampoo',\n",
       "       'hairmask', 'conditioner', 'hairstyling', 'oil', 'dry shampoo',\n",
       "       'lipliner', 'lipgloss', 'lipstick', 'lipbalm', 'lipstain',\n",
       "       'cleanser', 'eye treatment', 'mask', 'toner', 'face wash', 'spray',\n",
       "       'blush', 'concealer', 'powder', 'highlighter', 'face oil'],\n",
       "      dtype=object)"
      ]
     },
     "execution_count": 54,
     "metadata": {},
     "output_type": "execute_result"
    }
   ],
   "source": [
    "skincare['subcategory'].unique()"
   ]
  },
  {
   "cell_type": "code",
   "execution_count": 55,
   "id": "c574f00f",
   "metadata": {},
   "outputs": [
    {
     "data": {
      "text/plain": [
       "array(['aerosol', 'cream', 'foam', 'gel', 'liquid', 'lotion', 'solid',\n",
       "       'other', 'capsule', 'crayon', 'gaze', 'pen', 'pencil', 'powder',\n",
       "       'stick', 'strip', 'dry', 'mask', 'paste', 'mousse', 'tube',\n",
       "       'wipes', 'cushion', 'balm', 'serum'], dtype=object)"
      ]
     },
     "execution_count": 55,
     "metadata": {},
     "output_type": "execute_result"
    }
   ],
   "source": [
    "skincare['form'].unique()"
   ]
  },
  {
   "cell_type": "code",
   "execution_count": 56,
   "id": "b94ec66a",
   "metadata": {},
   "outputs": [
    {
     "data": {
      "text/plain": [
       "array(['Carlton London', 'Charlene', 'Denver', ..., 'Zuii Organic',\n",
       "       'BLUSH18', 'Dermablend'], dtype=object)"
      ]
     },
     "execution_count": 56,
     "metadata": {},
     "output_type": "execute_result"
    }
   ],
   "source": [
    "skincare.brand.unique()"
   ]
  },
  {
   "cell_type": "code",
   "execution_count": 57,
   "id": "fca0deb5",
   "metadata": {},
   "outputs": [
    {
     "name": "stdout",
     "output_type": "stream",
     "text": [
      "<class 'pandas.core.series.Series'>\n"
     ]
    }
   ],
   "source": [
    "print(type(skincare['price']))"
   ]
  },
  {
   "cell_type": "code",
   "execution_count": 59,
   "id": "e5e61a43",
   "metadata": {},
   "outputs": [],
   "source": [
    "# calculate the mean price of non-null values\n",
    "mean_price = skincare['price'].mean()\n",
    "# fill the null values with the mean price\n",
    "skincare['price'].fillna(mean_price, inplace=True)"
   ]
  },
  {
   "cell_type": "code",
   "execution_count": null,
   "id": "d7b66242",
   "metadata": {},
   "outputs": [],
   "source": []
  },
  {
   "cell_type": "code",
   "execution_count": 60,
   "id": "72fe89d7",
   "metadata": {},
   "outputs": [
    {
     "data": {
      "text/plain": [
       "0"
      ]
     },
     "execution_count": 60,
     "metadata": {},
     "output_type": "execute_result"
    }
   ],
   "source": [
    "skincare['price'].isnull().sum()"
   ]
  },
  {
   "cell_type": "code",
   "execution_count": 61,
   "id": "f440d739",
   "metadata": {},
   "outputs": [
    {
     "name": "stdout",
     "output_type": "stream",
     "text": [
      "count    12615.000000\n",
      "mean      2281.180935\n",
      "std       3118.747543\n",
      "min          1.700000\n",
      "25%        499.000000\n",
      "50%       1390.000000\n",
      "75%       2799.500000\n",
      "max      94099.000000\n",
      "Name: price, dtype: float64\n"
     ]
    }
   ],
   "source": [
    "print(skincare['price'].describe())"
   ]
  },
  {
   "cell_type": "code",
   "execution_count": 62,
   "id": "db37381f",
   "metadata": {},
   "outputs": [],
   "source": [
    "def price_to_class(x):\n",
    "    if x <= 499.000000:\n",
    "        x = 0\n",
    "    elif (x > 499.000000) and (x <= 1225.800000):\n",
    "        x = 1\n",
    "    elif (x > 1225.800000) and (x <= 2799.500000):\n",
    "          x = 2\n",
    "    elif x > 2799.500000: \n",
    "        x = 3\n",
    "    return x"
   ]
  },
  {
   "cell_type": "code",
   "execution_count": 63,
   "id": "02078dc1",
   "metadata": {},
   "outputs": [
    {
     "data": {
      "text/plain": [
       "2    3440\n",
       "0    3382\n",
       "3    3154\n",
       "1    2639\n",
       "Name: price, dtype: int64"
      ]
     },
     "execution_count": 63,
     "metadata": {},
     "output_type": "execute_result"
    }
   ],
   "source": [
    "skincare['price'] = skincare[\"price\"].apply(price_to_class)\n",
    "# convert the price to 1 for 'expensive' if over the 50 percentile, and to 0 for 'cheap' if under the 50 percentile\n",
    "skincare['price'].value_counts()"
   ]
  },
  {
   "cell_type": "code",
   "execution_count": 64,
   "id": "b76a8ee8",
   "metadata": {},
   "outputs": [
    {
     "data": {
      "text/plain": [
       "0        1\n",
       "1        0\n",
       "2        0\n",
       "3        0\n",
       "4        0\n",
       "        ..\n",
       "12610    2\n",
       "12611    2\n",
       "12612    3\n",
       "12613    3\n",
       "12614    3\n",
       "Name: price, Length: 12615, dtype: int64"
      ]
     },
     "execution_count": 64,
     "metadata": {},
     "output_type": "execute_result"
    }
   ],
   "source": [
    "skincare['price']"
   ]
  },
  {
   "cell_type": "code",
   "execution_count": 65,
   "id": "2746f3c1",
   "metadata": {},
   "outputs": [
    {
     "name": "stdout",
     "output_type": "stream",
     "text": [
      "[1 0 0 ... 3 3 3]\n"
     ]
    }
   ],
   "source": [
    "y = np.array(skincare['price'])\n",
    "y.shape\n",
    "# prepare labels\n",
    "print(y)"
   ]
  },
  {
   "cell_type": "code",
   "execution_count": 37,
   "id": "8f74c956",
   "metadata": {},
   "outputs": [],
   "source": [
    "#brand , product type - multiclass logistic reg"
   ]
  },
  {
   "cell_type": "code",
   "execution_count": 66,
   "id": "4d271bca",
   "metadata": {},
   "outputs": [],
   "source": [
    "def tokenizer(x) -> list: \n",
    "    x = x.replace('(', '')\n",
    "    x = x.replace(')', '')\n",
    "    x = x.replace(\"\\xa0\", \" \")\n",
    "    x = x.replace(\".\", \",\")\n",
    "    x = x.replace(\" & \", \", \")\n",
    "    x = re.split(', ', x)\n",
    "#     for item in x: \n",
    "#         if (item == \"aqua\") or (item == \"water aqua\") or (item == \"aqua water\") or (item == \"water/aqua\") or (item == \"aqua / water\") or (item = \"aqua/water/eau\") or (item == \"water\\\\aqua\\\\eau \") or (item == \"water aqua/eau\") or (item == \"aqua/water purified water\"):\n",
    "#             item = \"water\"\n",
    "    \n",
    "    return x"
   ]
  },
  {
   "cell_type": "code",
   "execution_count": 67,
   "id": "5eb767fd",
   "metadata": {},
   "outputs": [],
   "source": [
    "ohe = OneHotEncoder()\n",
    "vect = CountVectorizer(tokenizer=lambda x: tokenizer(x))\n",
    "scaler = StandardScaler() "
   ]
  },
  {
   "cell_type": "code",
   "execution_count": 95,
   "id": "7d8279d0",
   "metadata": {},
   "outputs": [],
   "source": [
    "X = skincare[['brand', 'subcategory','form','category']]\n",
    "\n",
    "\n",
    "# now only use brand and product type\n",
    "# the rest of the process below is exactly the same as the previous experiment\n",
    "\n",
    "X_train, X_test, y_train, y_test = train_test_split(X, y, \n",
    "                                                    test_size = 0.25,random_state=2)"
   ]
  },
  {
   "cell_type": "code",
   "execution_count": 96,
   "id": "ca7f548b",
   "metadata": {},
   "outputs": [
    {
     "data": {
      "text/html": [
       "<div>\n",
       "<style scoped>\n",
       "    .dataframe tbody tr th:only-of-type {\n",
       "        vertical-align: middle;\n",
       "    }\n",
       "\n",
       "    .dataframe tbody tr th {\n",
       "        vertical-align: top;\n",
       "    }\n",
       "\n",
       "    .dataframe thead th {\n",
       "        text-align: right;\n",
       "    }\n",
       "</style>\n",
       "<table border=\"1\" class=\"dataframe\">\n",
       "  <thead>\n",
       "    <tr style=\"text-align: right;\">\n",
       "      <th></th>\n",
       "      <th>brand</th>\n",
       "      <th>subcategory</th>\n",
       "      <th>form</th>\n",
       "      <th>category</th>\n",
       "    </tr>\n",
       "  </thead>\n",
       "  <tbody>\n",
       "    <tr>\n",
       "      <th>0</th>\n",
       "      <td>Carlton London</td>\n",
       "      <td>perfume</td>\n",
       "      <td>aerosol</td>\n",
       "      <td>body</td>\n",
       "    </tr>\n",
       "    <tr>\n",
       "      <th>1</th>\n",
       "      <td>Charlene</td>\n",
       "      <td>perfume</td>\n",
       "      <td>aerosol</td>\n",
       "      <td>body</td>\n",
       "    </tr>\n",
       "    <tr>\n",
       "      <th>2</th>\n",
       "      <td>Charlene</td>\n",
       "      <td>perfume</td>\n",
       "      <td>aerosol</td>\n",
       "      <td>body</td>\n",
       "    </tr>\n",
       "    <tr>\n",
       "      <th>3</th>\n",
       "      <td>Denver</td>\n",
       "      <td>perfume</td>\n",
       "      <td>aerosol</td>\n",
       "      <td>body</td>\n",
       "    </tr>\n",
       "    <tr>\n",
       "      <th>4</th>\n",
       "      <td>Denver</td>\n",
       "      <td>perfume</td>\n",
       "      <td>aerosol</td>\n",
       "      <td>body</td>\n",
       "    </tr>\n",
       "    <tr>\n",
       "      <th>...</th>\n",
       "      <td>...</td>\n",
       "      <td>...</td>\n",
       "      <td>...</td>\n",
       "      <td>...</td>\n",
       "    </tr>\n",
       "    <tr>\n",
       "      <th>12610</th>\n",
       "      <td>MAC Cosmetics</td>\n",
       "      <td>concealer</td>\n",
       "      <td>cream</td>\n",
       "      <td>face</td>\n",
       "    </tr>\n",
       "    <tr>\n",
       "      <th>12611</th>\n",
       "      <td>MAC Cosmetics</td>\n",
       "      <td>concealer</td>\n",
       "      <td>cream</td>\n",
       "      <td>face</td>\n",
       "    </tr>\n",
       "    <tr>\n",
       "      <th>12612</th>\n",
       "      <td>Klara Cosmetics</td>\n",
       "      <td>blush</td>\n",
       "      <td>powder</td>\n",
       "      <td>face</td>\n",
       "    </tr>\n",
       "    <tr>\n",
       "      <th>12613</th>\n",
       "      <td>CLINIQUE</td>\n",
       "      <td>blush</td>\n",
       "      <td>liquid</td>\n",
       "      <td>face</td>\n",
       "    </tr>\n",
       "    <tr>\n",
       "      <th>12614</th>\n",
       "      <td>Lancme</td>\n",
       "      <td>blush</td>\n",
       "      <td>serum</td>\n",
       "      <td>face</td>\n",
       "    </tr>\n",
       "  </tbody>\n",
       "</table>\n",
       "<p>12615 rows × 4 columns</p>\n",
       "</div>"
      ],
      "text/plain": [
       "                 brand subcategory     form category\n",
       "0       Carlton London     perfume  aerosol     body\n",
       "1             Charlene     perfume  aerosol     body\n",
       "2             Charlene     perfume  aerosol     body\n",
       "3               Denver     perfume  aerosol     body\n",
       "4               Denver     perfume  aerosol     body\n",
       "...                ...         ...      ...      ...\n",
       "12610    MAC Cosmetics   concealer    cream     face\n",
       "12611    MAC Cosmetics   concealer    cream     face\n",
       "12612  Klara Cosmetics       blush   powder     face\n",
       "12613         CLINIQUE       blush   liquid     face\n",
       "12614           Lancme       blush    serum     face\n",
       "\n",
       "[12615 rows x 4 columns]"
      ]
     },
     "execution_count": 96,
     "metadata": {},
     "output_type": "execute_result"
    }
   ],
   "source": [
    "X.dropna()"
   ]
  },
  {
   "cell_type": "code",
   "execution_count": 97,
   "id": "08761b73",
   "metadata": {},
   "outputs": [
    {
     "data": {
      "text/plain": [
       "brand          0\n",
       "subcategory    0\n",
       "form           0\n",
       "category       0\n",
       "dtype: int64"
      ]
     },
     "execution_count": 97,
     "metadata": {},
     "output_type": "execute_result"
    }
   ],
   "source": [
    "X.isnull().sum()"
   ]
  },
  {
   "cell_type": "code",
   "execution_count": 98,
   "id": "a55dd990",
   "metadata": {},
   "outputs": [],
   "source": [
    "ct = make_column_transformer(\n",
    "    (ohe, [\"category\"]),\n",
    "    (ohe, [\"subcategory\"]),\n",
    "    (ohe, [\"form\"]),\n",
    "    (vect, \"brand\"),\n",
    "    remainder=\"passthrough\")"
   ]
  },
  {
   "cell_type": "code",
   "execution_count": 99,
   "id": "b3af99e0",
   "metadata": {},
   "outputs": [
    {
     "data": {
      "text/plain": [
       "ColumnTransformer(remainder='passthrough',\n",
       "                  transformers=[('onehotencoder-1', OneHotEncoder(),\n",
       "                                 ['category']),\n",
       "                                ('onehotencoder-2', OneHotEncoder(),\n",
       "                                 ['subcategory']),\n",
       "                                ('onehotencoder-3', OneHotEncoder(), ['form']),\n",
       "                                ('countvectorizer',\n",
       "                                 CountVectorizer(tokenizer=<function <lambda> at 0x0000016836F953A0>),\n",
       "                                 'brand')])"
      ]
     },
     "execution_count": 99,
     "metadata": {},
     "output_type": "execute_result"
    }
   ],
   "source": [
    "ct"
   ]
  },
  {
   "cell_type": "code",
   "execution_count": 100,
   "id": "17e8ae0b",
   "metadata": {},
   "outputs": [
    {
     "name": "stderr",
     "output_type": "stream",
     "text": [
      "C:\\Users\\gdevi\\anaconda3\\lib\\site-packages\\sklearn\\linear_model\\_logistic.py:814: ConvergenceWarning: lbfgs failed to converge (status=1):\n",
      "STOP: TOTAL NO. of ITERATIONS REACHED LIMIT.\n",
      "\n",
      "Increase the number of iterations (max_iter) or scale the data as shown in:\n",
      "    https://scikit-learn.org/stable/modules/preprocessing.html\n",
      "Please also refer to the documentation for alternative solver options:\n",
      "    https://scikit-learn.org/stable/modules/linear_model.html#logistic-regression\n",
      "  n_iter_i = _check_optimize_result(\n"
     ]
    },
    {
     "data": {
      "text/plain": [
       "0.7178186429930248"
      ]
     },
     "execution_count": 100,
     "metadata": {},
     "output_type": "execute_result"
    }
   ],
   "source": [
    "from sklearn.linear_model import LogisticRegression\n",
    "lr_ovr = LogisticRegression(random_state=random_state)\n",
    "lrovr_pipe = make_pipeline(ct, lr_ovr)\n",
    "lrovr_pipe.fit(X_train, y_train)\n",
    "lrovr_predictions = lrovr_pipe.predict(X_test)\n",
    "accuracy_score(y_test, lrovr_predictions)"
   ]
  },
  {
   "cell_type": "code",
   "execution_count": null,
   "id": "373d6291",
   "metadata": {},
   "outputs": [],
   "source": [
    "#Brand and Product Type - MULTICLASS - DECISION TREE"
   ]
  },
  {
   "cell_type": "code",
   "execution_count": 101,
   "id": "50a31290",
   "metadata": {},
   "outputs": [
    {
     "data": {
      "text/plain": [
       "0.7336715282181357"
      ]
     },
     "execution_count": 101,
     "metadata": {},
     "output_type": "execute_result"
    }
   ],
   "source": [
    "from sklearn.tree import DecisionTreeClassifier\n",
    "dt = DecisionTreeClassifier(random_state=random_state, criterion='entropy')\n",
    "ct = make_column_transformer(\n",
    "    (ohe, [\"category\"]),\n",
    "    \n",
    "    (ohe, [\"subcategory\"]),\n",
    "    (vect, \"brand\"),\n",
    "    (ohe, [\"form\"]),\n",
    "    remainder=\"passthrough\")\n",
    "dt_pipe = make_pipeline(ct, dt)\n",
    "dt_pipe.fit(X_train, y_train)\n",
    "dt_predictions = dt_pipe.predict(X_test)\n",
    "accuracy_score(y_test, dt_predictions)"
   ]
  },
  {
   "cell_type": "code",
   "execution_count": 114,
   "id": "7265d321",
   "metadata": {},
   "outputs": [],
   "source": [
    "c=confusion_matrix(y_test, dt_predictions)"
   ]
  },
  {
   "cell_type": "code",
   "execution_count": null,
   "id": "f0183f9a",
   "metadata": {},
   "outputs": [],
   "source": [
    "#multiclass bagging classifier"
   ]
  },
  {
   "cell_type": "code",
   "execution_count": 105,
   "id": "d9e862a4",
   "metadata": {},
   "outputs": [
    {
     "data": {
      "text/plain": [
       "Pipeline(steps=[('columntransformer',\n",
       "                 ColumnTransformer(remainder='passthrough',\n",
       "                                   transformers=[('onehotencoder-1',\n",
       "                                                  OneHotEncoder(),\n",
       "                                                  ['category']),\n",
       "                                                 ('onehotencoder-2',\n",
       "                                                  OneHotEncoder(),\n",
       "                                                  ['subcategory']),\n",
       "                                                 ('onehotencoder-3',\n",
       "                                                  OneHotEncoder(), ['form']),\n",
       "                                                 ('countvectorizer',\n",
       "                                                  CountVectorizer(tokenizer=<function <lambda> at 0x0000016836F953A0>),\n",
       "                                                  'brand')])),\n",
       "                ('baggingclassifier',\n",
       "                 BaggingClassifier(base_estimator=DecisionTreeClassifier(max_depth=10000,\n",
       "                                                                         min_samples_leaf=2,\n",
       "                                                                         random_state=1),\n",
       "                                   n_estimators=300, n_jobs=-1,\n",
       "                                   random_state=1))])"
      ]
     },
     "execution_count": 105,
     "metadata": {},
     "output_type": "execute_result"
    }
   ],
   "source": [
    "from sklearn.tree import DecisionTreeClassifier\n",
    "from sklearn.ensemble import BaggingClassifier\n",
    "\n",
    "dt = DecisionTreeClassifier(min_samples_leaf=2, max_depth= 10000, criterion=\"gini\", random_state=random_state)\n",
    "\n",
    "bc = BaggingClassifier(base_estimator = dt, random_state=random_state, n_estimators = 300, n_jobs = -1)\n",
    "\n",
    "ct = make_column_transformer(\n",
    "    (ohe, [\"category\"]),\n",
    "    (ohe, [\"subcategory\"]),\n",
    "    (ohe, [\"form\"]),\n",
    "    (vect, \"brand\"),\n",
    "    remainder=\"passthrough\")\n",
    "\n",
    "bc_pipe = make_pipeline(ct, bc)\n",
    "bc_pipe.fit(X_train, y_train)"
   ]
  },
  {
   "cell_type": "code",
   "execution_count": 106,
   "id": "c55b5ca6",
   "metadata": {},
   "outputs": [
    {
     "data": {
      "text/plain": [
       "0.7105263157894737"
      ]
     },
     "execution_count": 106,
     "metadata": {},
     "output_type": "execute_result"
    }
   ],
   "source": [
    "bc_predictions = bc_pipe.predict(X_test)\n",
    "accuracy_score(y_test, bc_predictions)"
   ]
  },
  {
   "cell_type": "code",
   "execution_count": null,
   "id": "eef048ed",
   "metadata": {},
   "outputs": [],
   "source": []
  },
  {
   "cell_type": "code",
   "execution_count": 107,
   "id": "c2c2a153",
   "metadata": {},
   "outputs": [
    {
     "name": "stdout",
     "output_type": "stream",
     "text": [
      "30 Done with this number of estimators\n",
      "60 Done with this number of estimators\n",
      "90 Done with this number of estimators\n",
      "120 Done with this number of estimators\n",
      "150 Done with this number of estimators\n",
      "180 Done with this number of estimators\n",
      "210 Done with this number of estimators\n"
     ]
    }
   ],
   "source": [
    "accs = []\n",
    "n_estimators_range = [30,60,90,120,150,180,210]\n",
    "for n_estimators in n_estimators_range: \n",
    "    bc = BaggingClassifier(base_estimator = dt, random_state=random_state, n_estimators = n_estimators, n_jobs = -1)\n",
    "    ct = make_column_transformer(\n",
    "        (ohe, [\"category\"]),\n",
    "    (ohe, [\"subcategory\"]),\n",
    "        (ohe, [\"form\"]),\n",
    "    (vect, 'brand'), \n",
    "    remainder=\"passthrough\")\n",
    "    bc_pipe = make_pipeline(ct, bc)\n",
    "    bc_pipe.fit(X_train, y_train)\n",
    "    bc_pred = bc_pipe.predict(X_test)\n",
    "    acc = accuracy_score(y_test, bc_pred)\n",
    "    accs.append(acc)\n",
    "    print(n_estimators, \"Done with this number of estimators\")"
   ]
  },
  {
   "cell_type": "code",
   "execution_count": 108,
   "id": "b848546f",
   "metadata": {},
   "outputs": [
    {
     "data": {
      "image/png": "[encoded data removed]",
      "text/plain": [
       "<Figure size 640x480 with 1 Axes>"
      ]
     },
     "metadata": {},
     "output_type": "display_data"
    }
   ],
   "source": [
    "import matplotlib.pyplot as plt\n",
    "plt.figure()\n",
    "plt.plot(n_estimators_range, accs)\n",
    "plt.ylabel(\"Accuracy\")\n",
    "plt.xlabel(\"n_estimators\")\n",
    "plt.show()"
   ]
  },
  {
   "cell_type": "code",
   "execution_count": 109,
   "id": "873959a5",
   "metadata": {},
   "outputs": [
    {
     "name": "stdout",
     "output_type": "stream",
     "text": [
      "0.7136968928344959\n",
      "[       nan 0.70613108        nan        nan        nan        nan\n",
      " 0.6987315  0.69661734 0.68393235 0.70190275]\n",
      "Accuracy = nan +/- nan\n"
     ]
    }
   ],
   "source": [
    "bc = BaggingClassifier(base_estimator = dt, random_state=random_state, n_estimators = 100, n_jobs = -1)\n",
    "# Switch to 100 - lowest complexity, best accuracy\n",
    "\n",
    "ct = make_column_transformer(\n",
    "    (ohe, [\"category\"]),\n",
    "    (ohe, [\"subcategory\"]),\n",
    "    (vect, 'brand'),\n",
    "    (ohe, [\"form\"]),\n",
    "    remainder=\"passthrough\")\n",
    "bc_pipe = make_pipeline(ct, bc)\n",
    "\n",
    "bc_pipe.fit(X_train, y_train)\n",
    "bc_pred = bc_pipe.predict(X_test)\n",
    "print(accuracy_score(y_test, bc_pred))\n",
    "\n",
    "\n",
    "scores = cross_val_score(estimator=bc_pipe, X=X_train, y=y_train, cv=10, n_jobs=-1)\n",
    "print(scores)\n",
    "print('Accuracy = {:.8f} +/- {:.8f}'.format(np.mean(scores), np.std(scores)))"
   ]
  },
  {
   "cell_type": "code",
   "execution_count": 110,
   "id": "df676415",
   "metadata": {},
   "outputs": [],
   "source": [
    "#BRAND - MULTICLASS - RANDOM FORESTS"
   ]
  },
  {
   "cell_type": "code",
   "execution_count": 111,
   "id": "e25004d6",
   "metadata": {},
   "outputs": [
    {
     "data": {
      "text/plain": [
       "0.7324032974001268"
      ]
     },
     "execution_count": 111,
     "metadata": {},
     "output_type": "execute_result"
    }
   ],
   "source": [
    "from sklearn.ensemble import RandomForestClassifier\n",
    "rf = RandomForestClassifier(n_estimators = 1000, random_state = random_state)\n",
    "rf_pipe = make_pipeline(ct, rf)\n",
    "rf_pipe.fit(X_train, y_train)\n",
    "rf_pred = rf_pipe.predict(X_test)\n",
    "accuracy_score(y_test, rf_pred)"
   ]
  },
  {
   "cell_type": "code",
   "execution_count": 112,
   "id": "9e75e7b1",
   "metadata": {},
   "outputs": [],
   "source": [
    "cm=confusion_matrix(y_test,rf_pred) "
   ]
  },
  {
   "cell_type": "code",
   "execution_count": 115,
   "id": "33b4746e",
   "metadata": {},
   "outputs": [
    {
     "data": {
      "image/png": "[encoded data removed]",
      "text/plain": [
       "<Figure size 640x480 with 2 Axes>"
      ]
     },
     "metadata": {},
     "output_type": "display_data"
    }
   ],
   "source": [
    "import numpy as np\n",
    "import matplotlib.pyplot as plt\n",
    "import seaborn as sns\n",
    "from sklearn.metrics import confusion_matrix\n",
    "\n",
    "# Define class labels\n",
    "class_names = ['Affordable','Normal', 'Medium Expensive', 'Expensive']\n",
    "\n",
    "# Create heatmap using Seaborn\n",
    "sns.heatmap(c, annot=True, fmt='d', cmap='Blues', xticklabels=class_names, yticklabels=class_names)\n",
    "# Add labels and title\n",
    "plt.xlabel('Predicted label')\n",
    "plt.ylabel('True label')\n",
    "plt.title('Confusion Matrix')\n",
    "plt.show()"
   ]
  },
  {
   "cell_type": "code",
   "execution_count": null,
   "id": "05b3ab49",
   "metadata": {},
   "outputs": [],
   "source": []
  },
  {
   "cell_type": "code",
   "execution_count": null,
   "id": "8975a13d",
   "metadata": {},
   "outputs": [],
   "source": []
  },
  {
   "cell_type": "code",
   "execution_count": null,
   "id": "e633cde7",
   "metadata": {},
   "outputs": [],
   "source": []
  },
  {
   "cell_type": "code",
   "execution_count": null,
   "id": "7a07828e",
   "metadata": {},
   "outputs": [],
   "source": []
  },
  {
   "cell_type": "code",
   "execution_count": null,
   "id": "4477d135",
   "metadata": {},
   "outputs": [],
   "source": []
  },
  {
   "cell_type": "code",
   "execution_count": null,
   "id": "e972d210",
   "metadata": {},
   "outputs": [],
   "source": []
  },
  {
   "cell_type": "code",
   "execution_count": null,
   "id": "dcc425ff",
   "metadata": {},
   "outputs": [],
   "source": []
  },
  {
   "cell_type": "code",
   "execution_count": null,
   "id": "c59062fb",
   "metadata": {},
   "outputs": [],
   "source": []
  },
  {
   "cell_type": "code",
   "execution_count": null,
   "id": "acf649d3",
   "metadata": {},
   "outputs": [],
   "source": []
  },
  {
   "cell_type": "code",
   "execution_count": null,
   "id": "a0e3bf5d",
   "metadata": {},
   "outputs": [],
   "source": []
  }
 ],
 "metadata": {
  "kernelspec": {
   "display_name": "Python 3 (ipykernel)",
   "language": "python",
   "name": "python3"
  },
  "language_info": {
   "codemirror_mode": {
    "name": "ipython",
    "version": 3
   },
   "file_extension": ".py",
   "mimetype": "text/x-python",
   "name": "python",
   "nbconvert_exporter": "python",
   "pygments_lexer": "ipython3",
   "version": "3.9.13"
  }
 },
 "nbformat": 4,
 "nbformat_minor": 5
}
